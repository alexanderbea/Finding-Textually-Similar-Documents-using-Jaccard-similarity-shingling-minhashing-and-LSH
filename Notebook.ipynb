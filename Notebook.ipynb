{
 "cells": [
  {
   "cell_type": "markdown",
   "metadata": {
    "id": "rOJ2huJYkOpq"
   },
   "source": [
    "# Finding Similar Items: Textually Similar Documents"
   ]
  },
  {
   "cell_type": "code",
   "execution_count": 64,
   "metadata": {
    "executionInfo": {
     "elapsed": 1229,
     "status": "ok",
     "timestamp": 1605251914440,
     "user": {
      "displayName": "Tinker Projects",
      "photoUrl": "",
      "userId": "02989585942682063308"
     },
     "user_tz": -60
    },
    "id": "MfYUJweDHA2A"
   },
   "outputs": [],
   "source": [
    "# pip install docx2txt"
   ]
  },
  {
   "cell_type": "code",
   "execution_count": 65,
   "metadata": {
    "executionInfo": {
     "elapsed": 1915,
     "status": "ok",
     "timestamp": 1605251915163,
     "user": {
      "displayName": "Tinker Projects",
      "photoUrl": "",
      "userId": "02989585942682063308"
     },
     "user_tz": -60
    },
    "id": "qq4y4qryeXTO"
   },
   "outputs": [],
   "source": [
    "import os, sys\n",
    "import docx2txt\n",
    "import random\n",
    "import itertools\n",
    "import hashlib"
   ]
  },
  {
   "cell_type": "code",
   "execution_count": 66,
   "metadata": {
    "colab": {
     "base_uri": "https://localhost:8080/"
    },
    "executionInfo": {
     "elapsed": 1891,
     "status": "ok",
     "timestamp": 1605251915166,
     "user": {
      "displayName": "Tinker Projects",
      "photoUrl": "",
      "userId": "02989585942682063308"
     },
     "user_tz": -60
    },
    "id": "oOvL56DfsUZa",
    "outputId": "79abee56-3be1-491e-e174-639142a48333"
   },
   "outputs": [
    {
     "name": "stdout",
     "output_type": "stream",
     "text": [
      "Drive already mounted at /content/drive/; to attempt to forcibly remount, call drive.mount(\"/content/drive/\", force_remount=True).\n"
     ]
    }
   ],
   "source": [
    "from google.colab import drive\n",
    "drive.mount('/content/drive/')"
   ]
  },
  {
   "cell_type": "code",
   "execution_count": 67,
   "metadata": {
    "executionInfo": {
     "elapsed": 1870,
     "status": "ok",
     "timestamp": 1605251915171,
     "user": {
      "displayName": "Tinker Projects",
      "photoUrl": "",
      "userId": "02989585942682063308"
     },
     "user_tz": -60
    },
    "id": "2bekIw7ysZL-"
   },
   "outputs": [],
   "source": [
    "file_source = '/content/drive/My Drive/..'"
   ]
  },
  {
   "cell_type": "code",
   "execution_count": 68,
   "metadata": {
    "executionInfo": {
     "elapsed": 1849,
     "status": "ok",
     "timestamp": 1605251915178,
     "user": {
      "displayName": "Tinker Projects",
      "photoUrl": "",
      "userId": "02989585942682063308"
     },
     "user_tz": -60
    },
    "id": "Mku_yoH-eXTW"
   },
   "outputs": [],
   "source": [
    "docPathOne = os.path.abspath(file_source+\"...docx\") \n",
    "docOne = docx2txt.process(docPathOne)\n",
    "docPathTwo = os.path.abspath(file_source+\"...docx\")\n",
    "docTwo = docx2txt.process(docPathTwo)\n",
    "docPathThree = os.path.abspath(file_source+\"...docx\")\n",
    "docThree = docx2txt.process(docPathThree)"
   ]
  },
  {
   "cell_type": "code",
   "execution_count": 69,
   "metadata": {
    "executionInfo": {
     "elapsed": 1829,
     "status": "ok",
     "timestamp": 1605251915182,
     "user": {
      "displayName": "Tinker Projects",
      "photoUrl": "",
      "userId": "02989585942682063308"
     },
     "user_tz": -60
    },
    "id": "dEeS7keueXTe"
   },
   "outputs": [],
   "source": [
    "class Shingle:\n",
    "    def __init__(self, k, doc):\n",
    "        self.k = k\n",
    "        self.doc = self.splitDoc(doc)\n",
    "        self.hashes = self.shingle()\n",
    "        \n",
    "    def splitDoc(self, doc):\n",
    "        # splits the words of the document and stores each to a field of a list\n",
    "        return doc.split()\n",
    "\n",
    "    def shingle(self):\n",
    "        # goes through the list of words of the document and adds k-shingles to a set\n",
    "        # eof = end of file\n",
    "        eof = False\n",
    "        container = set()\n",
    "        i = 0\n",
    "        # goes as long eof is not reached\n",
    "        while not eof:\n",
    "            end = min(self.k, len(self.doc)-i) #not used\n",
    "            # tuples are hashable\n",
    "            shingledValues = tuple(self.doc[i:i+self.k])\n",
    "            container.add(hash(shingledValues))\n",
    "            # jumps ahead k fields in list\n",
    "            i += self.k\n",
    "            # cheks if eof is reached\n",
    "            try: self.doc[i]\n",
    "            except: eof = True\n",
    "\n",
    "        return container"
   ]
  },
  {
   "cell_type": "code",
   "execution_count": 70,
   "metadata": {
    "executionInfo": {
     "elapsed": 1800,
     "status": "ok",
     "timestamp": 1605251915185,
     "user": {
      "displayName": "Tinker Projects",
      "photoUrl": "",
      "userId": "02989585942682063308"
     },
     "user_tz": -60
    },
    "id": "yro8TgTIeXTi"
   },
   "outputs": [],
   "source": [
    "def jaccardSimilarity(s1,s2):\n",
    "    return len(s1.hashes & s2.hashes) / len(s1.hashes | s2.hashes)"
   ]
  },
  {
   "cell_type": "code",
   "execution_count": 71,
   "metadata": {
    "executionInfo": {
     "elapsed": 1772,
     "status": "ok",
     "timestamp": 1605251915189,
     "user": {
      "displayName": "Tinker Projects",
      "photoUrl": "",
      "userId": "02989585942682063308"
     },
     "user_tz": -60
    },
    "id": "473dhzcaeXTm"
   },
   "outputs": [],
   "source": [
    "class MinHashing:\n",
    "    def __init__(self, sets):\n",
    "        # sets should be a tuple of sets\n",
    "        self.sets = sets\n",
    "        # store number of sets for iterators\n",
    "        self.numberSets = len(self.sets)\n",
    "        # store a set of global unique hashes\n",
    "        self.globalHashes = self._addSets()\n",
    "        # method calles to create signatures of for each set\n",
    "        self._defineSignatures()\n",
    "        # empty container for minHashMatrix, that will be filled with a method that has to be called\n",
    "        self.minHashMatrix = []\n",
    "\n",
    "    def _addSets(self):\n",
    "        resultSet = set()\n",
    "        # adding values of one set to another with |= operator\n",
    "        for sets in self.sets:\n",
    "            resultSet |= sets.hashes\n",
    "        return resultSet\n",
    "\n",
    "    def _defineSignatures(self):\n",
    "        # create an empty dictionary for each document / set to store the signature in it\n",
    "        self.signatures = {i: {} for i in range(self.numberSets)}\n",
    "        # go through each of the global hash list ...\n",
    "        for element in self.globalHashes:\n",
    "            # ... and compare with each set for occurence in this set of hashes\n",
    "            for idx, sets in enumerate(self.sets):\n",
    "                self.signatures[idx][element] = element in sets.hashes\n",
    "\n",
    "    def _findMinHashes(self, permutedKeys):\n",
    "        # create a list of zeros that should later receive the minHashValues for each of the documents\n",
    "        values = [0] * self.numberSets\n",
    "        i = 0\n",
    "        # iterate as long as not all values are assigned a value\n",
    "        while not all(values):\n",
    "            # iterate through the number of sets to see if the element occurs in the matrix, then assign number of iteration\n",
    "            for idx in range(self.numberSets):\n",
    "                if self.signatures[idx][permutedKeys[i]] and not values[idx]: values[idx] = i      \n",
    "            i += 1\n",
    "            if i > 1000:\n",
    "                break\n",
    "        return values\n",
    "    \n",
    "    def setMinHashMatrix(self, n):\n",
    "        # whenever the method is called, the minHashMatrix will be reset to an empty list\n",
    "        self.minHashMatrix = []\n",
    "        # n : number of permutations\n",
    "        # store global hash list to a new variable, as this will be shuffled\n",
    "        hashList = list(self.globalHashes)\n",
    "        # repeat for all permutations that are set by the user\n",
    "        # append result of _findMinHashes method that will be given the shuffled hash list to matrix\n",
    "        for i in range(n):\n",
    "            random.shuffle(hashList)\n",
    "            self.minHashMatrix.append(self._findMinHashes(hashList))\n",
    "            \n",
    "    def setSimilarities(self, lsh=False, nBands=1, threshold=.8):\n",
    "        if not lsh:\n",
    "            # create a number of integers for each document\n",
    "            # then permute the number so we receive all combinations of two document id's to compare\n",
    "            listSets = [i for i in range(self.numberSets)]\n",
    "            setPermutations = itertools.permutations(listSets, 2)\n",
    "            \n",
    "            # create a dictionary that will contain a similarity value for each of the possible doc id combinations\n",
    "            # to create dictionary we used dict comprehension dict = {... for ... in ...}\n",
    "            self.docSimilarities = {\n",
    "                # key is the combination e.g. doc id (0) compared to (->) doc id (1)\n",
    "                '{}'.format(combination[0])+'->{}'.format(combination[1]): \\\n",
    "                self._calcSimilarities(combination, 0, len(self.minHashMatrix)) for combination in setPermutations\n",
    "            }\n",
    "        \n",
    "        if lsh:\n",
    "            listSets = [i for i in range(self.numberSets)]\n",
    "            setPermutations = itertools.permutations(listSets, 2)\n",
    "\n",
    "            # assign starting rows of buckets according to number of buckets and length of minHashMatrix\n",
    "            bands = list(range(0, len(self.minHashMatrix)+1, int(len(self.minHashMatrix)/nBands)))\n",
    "            # pick a random bucket, avoid last band as it may be too small\n",
    "            b = int(random.random()*len(bands)-1)\n",
    "\n",
    "            docSimilaritiesBucket = {\n",
    "                '{}'.format(combination[0])+'->{}'.format(combination[1]): \\\n",
    "                self._calcSimilarities(combination, bands[b], bands[b+1]) for combination in setPermutations\n",
    "            }\n",
    "            self.docSimilarities = {key: 1 if value < threshold else 0 for key, value in docSimilaritiesBucket.items()}\n",
    "    \n",
    "    def _calcSimilarities(self, combination, firstRow, lastRow):\n",
    "        a = 0\n",
    "        if lastRow == len(self.minHashMatrix):\n",
    "            lastRow -= 1\n",
    "        # go through each row of the minHashMatrix\n",
    "        for i in range(firstRow, lastRow+1):\n",
    "            # compare the columns according to the permuation given with the doc ids\n",
    "            # a counts up, if a similar entry existed\n",
    "            if self.minHashMatrix[i][combination[0]] == self.minHashMatrix[i][combination[1]]:\n",
    "                a += 1\n",
    "        # return the ratio between equal entries and all entries as the similarity score        \n",
    "        return a / (lastRow-firstRow+1)        "
   ]
  },
  {
   "cell_type": "code",
   "execution_count": 72,
   "metadata": {
    "colab": {
     "base_uri": "https://localhost:8080/"
    },
    "executionInfo": {
     "elapsed": 1714,
     "status": "ok",
     "timestamp": 1605251915195,
     "user": {
      "displayName": "Tinker Projects",
      "photoUrl": "",
      "userId": "02989585942682063308"
     },
     "user_tz": -60
    },
    "id": "PCwD0g_ZeXTq",
    "outputId": "9450f4ae-7f74-427e-ef65-6aa261388135"
   },
   "outputs": [
    {
     "data": {
      "text/plain": [
       "{'0->1': 0.06,\n",
       " '0->2': 0.06,\n",
       " '0->3': 1.0,\n",
       " '1->0': 0.06,\n",
       " '1->2': 1.0,\n",
       " '1->3': 0.06,\n",
       " '2->0': 0.06,\n",
       " '2->1': 1.0,\n",
       " '2->3': 0.06,\n",
       " '3->0': 1.0,\n",
       " '3->1': 0.06,\n",
       " '3->2': 0.06}"
      ]
     },
     "execution_count": 72,
     "metadata": {
      "tags": []
     },
     "output_type": "execute_result"
    }
   ],
   "source": [
    "one = Shingle(k=2, doc=docOne)\n",
    "two = Shingle(k=2, doc=docTwo)\n",
    "three = Shingle(k=2, doc=docThree)\n",
    "four = Shingle(k=2, doc=docOne)\n",
    "\n",
    "minhasher = MinHashing((one, two, three, four))\n",
    "minhasher.setMinHashMatrix(100)\n",
    "minhasher.setSimilarities(lsh=False, nBands=10)\n",
    "minhasher.docSimilarities"
   ]
  },
  {
   "cell_type": "markdown",
   "metadata": {
    "id": "fM5OJ8xHjgzK"
   },
   "source": [
    "The following is an alterantive implementation where shingles are constructed by letter"
   ]
  },
  {
   "cell_type": "code",
   "execution_count": 73,
   "metadata": {
    "colab": {
     "base_uri": "https://localhost:8080/"
    },
    "executionInfo": {
     "elapsed": 1636,
     "status": "ok",
     "timestamp": 1605251915198,
     "user": {
      "displayName": "Tinker Projects",
      "photoUrl": "",
      "userId": "02989585942682063308"
     },
     "user_tz": -60
    },
    "id": "BD_Fu20-jUiS",
    "outputId": "46331caf-7123-454c-8661-d8e15fa00303"
   },
   "outputs": [
    {
     "name": "stdout",
     "output_type": "stream",
     "text": [
      "{'cd', 'ef', 'bc', 'ab', 'de'}\n"
     ]
    }
   ],
   "source": [
    "class Shingling:\n",
    "  def construct_Shingles(document, k):\n",
    "    # loop through the document and break it based on k-chars\n",
    "    shingles = set()\n",
    "    idx = 0\n",
    "    for sh in range(len(document) - k + 1):\n",
    "      #adds = []\n",
    "      #shingles.add()\n",
    "      shingles.add(document[sh:(sh+k)])\n",
    "      idx += k\n",
    "    return shingles\n",
    "\n",
    "document = 'abcdef'\n",
    "k = 2\n",
    "print(Shingling.construct_Shingles(document,k))"
   ]
  },
  {
   "cell_type": "code",
   "execution_count": 74,
   "metadata": {
    "executionInfo": {
     "elapsed": 1595,
     "status": "ok",
     "timestamp": 1605251915202,
     "user": {
      "displayName": "Tinker Projects",
      "photoUrl": "",
      "userId": "02989585942682063308"
     },
     "user_tz": -60
    },
    "id": "JpvW2Ntcjeif"
   },
   "outputs": [],
   "source": [
    "#pip install mmh3"
   ]
  },
  {
   "cell_type": "code",
   "execution_count": 75,
   "metadata": {
    "executionInfo": {
     "elapsed": 1567,
     "status": "ok",
     "timestamp": 1605251915204,
     "user": {
      "displayName": "Tinker Projects",
      "photoUrl": "",
      "userId": "02989585942682063308"
     },
     "user_tz": -60
    },
    "id": "c4SV4DsxjZEC"
   },
   "outputs": [],
   "source": [
    "import mmh3\n",
    "\n",
    "class CompareSets:\n",
    "  def construct_Shingles_Hashed(document, k, seed=0):\n",
    "    # loop through the document and break it based on k-chars\n",
    "    shingles = set()\n",
    "    for sh in range(len(document) - k + 1):\n",
    "      shingles.add(str(mmh3.hash(document[sh:(sh+k)], seed)))\n",
    "    return shingles\n",
    "\n",
    "  def calculate_JaccardSimularity(set1, set2):\n",
    "      # Jaccord similarity is defined as \n",
    "      # [(elements in intersection) / (elements in union)]  of the two sets \n",
    "      result = len(set1 & set2) / len(set1 | set2) # Python's intersection function is & and union is |\n",
    "      return result"
   ]
  },
  {
   "cell_type": "code",
   "execution_count": 76,
   "metadata": {
    "colab": {
     "base_uri": "https://localhost:8080/"
    },
    "executionInfo": {
     "elapsed": 1530,
     "status": "ok",
     "timestamp": 1605251915207,
     "user": {
      "displayName": "Tinker Projects",
      "photoUrl": "",
      "userId": "02989585942682063308"
     },
     "user_tz": -60
    },
    "id": "ZPenjBsnjaeC",
    "outputId": "795622ff-905e-4363-df7e-2b34d8b520c6"
   },
   "outputs": [
    {
     "name": "stdout",
     "output_type": "stream",
     "text": [
      "Shingles:\n",
      "Document 1: {'CD', 'AB', 'DE', 'BC'}\n",
      "Document 2: {'CD', 'EF', 'AB', 'DE', 'BC'}\n",
      "Jaccard Similarity: 0.8\n",
      "\n",
      "Shingles (hashed):\n",
      "Document 1: {'-200631661', '-1515746955', '286687249', '1928019024'}\n",
      "Document 2: {'-1515746955', '566201179', '1928019024', '-200631661', '286687249'}\n",
      "Jaccard Similarity: 0.8\n",
      "\n",
      "When Jaccard Similarity equals 1 then the documents are identical\n"
     ]
    }
   ],
   "source": [
    "document_1 = 'ABCDE'\n",
    "document_2 = 'ABCDEF'\n",
    "k = 2\n",
    "\n",
    "shingle_1_without_hash = Shingling.construct_Shingles(document_1, k)\n",
    "shingle_2_without_hash = Shingling.construct_Shingles(document_2, k)\n",
    "\n",
    "shingle_1 = CompareSets.construct_Shingles_Hashed(document_1, k)\n",
    "shingle_2 = CompareSets.construct_Shingles_Hashed(document_2, k)\n",
    "\n",
    "print(\"Shingles:\")\n",
    "print(\"Document 1: \" + str(shingle_1_without_hash))\n",
    "print(\"Document 2: \" + str(shingle_2_without_hash))\n",
    "print('Jaccard Similarity:', CompareSets.calculate_JaccardSimularity(shingle_1_without_hash,shingle_2_without_hash))\n",
    "\n",
    "print()\n",
    "print(\"Shingles (hashed):\")\n",
    "print(\"Document 1: \" + str(shingle_1))\n",
    "print(\"Document 2: \" + str(shingle_2))\n",
    "print('Jaccard Similarity:', CompareSets.calculate_JaccardSimularity(shingle_1,shingle_2))\n",
    "\n",
    "print()\n",
    "\n",
    "print(\"When Jaccard Similarity equals 1 then the documents are identical\")"
   ]
  }
 ],
 "metadata": {
  "colab": {
   "collapsed_sections": [],
   "name": "Homework 1 Notebook, Group 44 - Marvin & Alex.ipynb",
   "provenance": []
  },
  "kernelspec": {
   "display_name": "Python 3",
   "language": "python",
   "name": "python3"
  },
  "language_info": {
   "codemirror_mode": {
    "name": "ipython",
    "version": 3
   },
   "file_extension": ".py",
   "mimetype": "text/x-python",
   "name": "python",
   "nbconvert_exporter": "python",
   "pygments_lexer": "ipython3",
   "version": "3.7.4"
  }
 },
 "nbformat": 4,
 "nbformat_minor": 1
}
